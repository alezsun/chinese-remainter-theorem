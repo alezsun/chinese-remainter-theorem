{
 "cells": [
  {
   "cell_type": "code",
   "execution_count": 202,
   "metadata": {},
   "outputs": [],
   "source": [
    "def check_relative_prime(x, y):\n",
    "    if(x < y):\n",
    "        x, y = y, x\n",
    "    \n",
    "    z = x % y\n",
    "    if(z != 0):\n",
    "        print(x, \" % \", y, \" = \", z)\n",
    "        return check_relative_prime(y, z)\n",
    "    else:\n",
    "        print(x, \" % \", y, \" = \", z)\n",
    "        return (True if y==1 else False)\n",
    "    \n",
    "            \n",
    "def list_equations(x, y, b1, b2, b1r1 = 1, b2r1 = 0, b1r2 = 0, b2r2 = 1):\n",
    "    if(b1 < b2):\n",
    "        b1, b2 = b2, b1\n",
    "        x, y = y, x\n",
    "    \n",
    "    r = x % y\n",
    "    times = x // y\n",
    "    \n",
    "    b1r1 = b1r1 - times * b1r2\n",
    "    b2r1 = b2r1 - times * b2r2\n",
    "\n",
    "    if(r != 0):\n",
    "        print(r, \" = \", b1r1, \" * \", b1, \" + \", b2r1, \" * \", b2)\n",
    "        return list_equations(y, r, b1, b2, b1r2, b2r2, b1r1, b2r1)\n",
    "    else:\n",
    "        return b1r2, b2r2\n",
    "        \n",
    "# x(mod n), y(mod m)\n",
    "def find_mod(x, n, y, m):\n",
    "    if(x == 0 or n == 0 or y == 0 or m == 0):\n",
    "        print(\"invalid input\")\n",
    "        return 0,0\n",
    "    elif(check_relative_prime(n, m)):\n",
    "        if(n < m):\n",
    "            x, y = y, x\n",
    "            n, m = m, n\n",
    "        \n",
    "        x_base, y_base = list_equations(n, m, n, m)\n",
    "        target = y - x\n",
    "        \n",
    "        final = n * target * x_base + x\n",
    "        final = final if final > 0 else (final + n * m)\n",
    "        while(final > n*m):\n",
    "            final -= n*m\n",
    "        \n",
    "        print(final, \"(mod\", n * m, \")\", sep='')\n",
    "        return final, n*m\n",
    "    else:\n",
    "        print(\"invalid input\")\n",
    "        return 0,0"
   ]
  },
  {
   "cell_type": "code",
   "execution_count": 206,
   "metadata": {
    "scrolled": false
   },
   "outputs": [
    {
     "name": "stdout",
     "output_type": "stream",
     "text": [
      "15  %  4  =  3\n",
      "4  %  3  =  1\n",
      "3  %  1  =  0\n",
      "\n",
      "3  =  1  *  15  +  -3  *  4\n",
      "1  =  -1  *  15  +  4  *  4\n",
      "-1 4\n"
     ]
    }
   ],
   "source": [
    "a = 15\n",
    "b = 4\n",
    "check = check_relative_prime(a, b)\n",
    "print()\n",
    "if(check):\n",
    "    x, y = list_equations(a, b, a, b)\n",
    "    print(x, y)"
   ]
  },
  {
   "cell_type": "code",
   "execution_count": 204,
   "metadata": {},
   "outputs": [
    {
     "name": "stdout",
     "output_type": "stream",
     "text": [
      "7  %  5  =  2\n",
      "5  %  2  =  1\n",
      "2  %  1  =  0\n",
      "2  =  1  *  7  +  -1  *  5\n",
      "1  =  -2  *  7  +  3  *  5\n",
      "16(mod35)\n",
      "\n",
      "35  %  9  =  8\n",
      "9  %  8  =  1\n",
      "8  %  1  =  0\n",
      "8  =  1  *  35  +  -3  *  9\n",
      "1  =  -1  *  35  +  4  *  9\n",
      "156(mod315)\n",
      "\n",
      "315  %  11  =  7\n",
      "11  %  7  =  4\n",
      "7  %  4  =  3\n",
      "4  %  3  =  1\n",
      "3  %  1  =  0\n",
      "7  =  1  *  315  +  -28  *  11\n",
      "4  =  -1  *  315  +  29  *  11\n",
      "3  =  2  *  315  +  -57  *  11\n",
      "1  =  -3  *  315  +  86  *  11\n",
      "1731(mod3465)\n"
     ]
    }
   ],
   "source": [
    "'''\n",
    "example to show:\n",
    "x ≡ 1(mod 5)\n",
    "x ≡ 2(mod 7)\n",
    "x ≡ 3(mod 9)\n",
    "x ≡ 4(mod 11)\n",
    "'''\n",
    "\n",
    "n1, n2 = find_mod(1, 5, 2, 7)\n",
    "print()\n",
    "n1, n2 = find_mod(n1, n2, 3, 9)\n",
    "print()\n",
    "n1, n2 = find_mod(n1, n2, 4, 11)"
   ]
  },
  {
   "cell_type": "code",
   "execution_count": null,
   "metadata": {},
   "outputs": [],
   "source": []
  }
 ],
 "metadata": {
  "kernelspec": {
   "display_name": "Python 3",
   "language": "python",
   "name": "python3"
  },
  "language_info": {
   "codemirror_mode": {
    "name": "ipython",
    "version": 3
   },
   "file_extension": ".py",
   "mimetype": "text/x-python",
   "name": "python",
   "nbconvert_exporter": "python",
   "pygments_lexer": "ipython3",
   "version": "3.6.3"
  }
 },
 "nbformat": 4,
 "nbformat_minor": 2
}
